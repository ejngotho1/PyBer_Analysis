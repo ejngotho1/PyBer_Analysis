{
 "cells": [
  {
   "cell_type": "code",
   "execution_count": 2,
   "metadata": {},
   "outputs": [],
   "source": [
    "import csv\n",
    "import os\n",
    "import pandas as pd\n",
    "import numpy as np"
   ]
  },
  {
   "cell_type": "code",
   "execution_count": 3,
   "metadata": {},
   "outputs": [],
   "source": [
    "donors = pd.read_csv(\"C:\\\\Users\\\\Edgar\\\\Desktop\\\\UTA_XL_Master\\\\donors2008.csv\")"
   ]
  },
  {
   "cell_type": "code",
   "execution_count": 4,
   "metadata": {},
   "outputs": [],
   "source": [
    "donors_df = pd.DataFrame(donors)"
   ]
  },
  {
   "cell_type": "code",
   "execution_count": 5,
   "metadata": {},
   "outputs": [
    {
     "name": "stdout",
     "output_type": "stream",
     "text": [
      "        LastName FirstName          Employer           City State    Zip  \\\n",
      "0          Aaron    Eugene  State Department         Dulles    VA  20189   \n",
      "1          Abadi   Barbara       Abadi & Co.       New York    NY  10021   \n",
      "2        Adamany   Anthony           Retired       Rockford    IL  61103   \n",
      "3          Adams  Lorraine              Self       New York    NY  10026   \n",
      "4          Adams    Marion              None         Exeter    NH  03833   \n",
      "...          ...       ...               ...            ...   ...    ...   \n",
      "1771   Zinczenko     David            Rodale      Allentown    PA  18102   \n",
      "1772  Zschiesche     Peter               NaN      San Diego    CA  92104   \n",
      "1773  Zweidinger      Ruth               NaN   Hillsborough    NC  27278   \n",
      "1774   Zwerdling     David    Montg Cnty, Md  Silver Spring    MD  20910   \n",
      "1775     Zyskind       Jon      JDS Uniphase        Concord    MA  10742   \n",
      "\n",
      "      Amount  FIELD8  \n",
      "0      500.0     NaN  \n",
      "1      200.0     NaN  \n",
      "2      500.0     NaN  \n",
      "3      200.0     NaN  \n",
      "4      100.0     NaN  \n",
      "...      ...     ...  \n",
      "1771   500.0     NaN  \n",
      "1772   250.0     NaN  \n",
      "1773   250.0     NaN  \n",
      "1774    35.0     NaN  \n",
      "1775    25.0     NaN  \n",
      "\n",
      "[1776 rows x 8 columns]\n"
     ]
    }
   ],
   "source": [
    "print(donors_df)"
   ]
  },
  {
   "cell_type": "code",
   "execution_count": null,
   "metadata": {},
   "outputs": [],
   "source": []
  }
 ],
 "metadata": {
  "kernelspec": {
   "display_name": "PythonData",
   "language": "python",
   "name": "pythondata"
  },
  "language_info": {
   "codemirror_mode": {
    "name": "ipython",
    "version": 3
   },
   "file_extension": ".py",
   "mimetype": "text/x-python",
   "name": "python",
   "nbconvert_exporter": "python",
   "pygments_lexer": "ipython3",
   "version": "3.7.9"
  }
 },
 "nbformat": 4,
 "nbformat_minor": 4
}
